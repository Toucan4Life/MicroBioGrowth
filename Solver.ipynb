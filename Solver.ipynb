{
 "cells": [
  {
   "cell_type": "code",
   "execution_count": 26,
   "metadata": {},
   "outputs": [
    {
     "name": "stdout",
     "output_type": "stream",
     "text": [
      "We got 181 rows and 52 columns\n"
     ]
    }
   ],
   "source": [
    "import pandas as pd\n",
    "from sklearn.decomposition import PCA\n",
    "import matplotlib.pyplot as plt\n",
    "from sklearn import preprocessing\n",
    "from sklearn.impute import SimpleImputer\n",
    "\n",
    "#Load file\n",
    "dataframe = pd.read_csv(\"data.csv\", delimiter=\";\")\n",
    "\n",
    "print(f\"We got {len(dataframe)} rows and {len(dataframe.columns)} columns\")"
   ]
  },
  {
   "cell_type": "code",
   "execution_count": 27,
   "metadata": {},
   "outputs": [
    {
     "data": {
      "text/html": [
       "<div>\n",
       "<style scoped>\n",
       "    .dataframe tbody tr th:only-of-type {\n",
       "        vertical-align: middle;\n",
       "    }\n",
       "\n",
       "    .dataframe tbody tr th {\n",
       "        vertical-align: top;\n",
       "    }\n",
       "\n",
       "    .dataframe thead th {\n",
       "        text-align: right;\n",
       "    }\n",
       "</style>\n",
       "<table border=\"1\" class=\"dataframe\">\n",
       "  <thead>\n",
       "    <tr style=\"text-align: right;\">\n",
       "      <th></th>\n",
       "      <th>0</th>\n",
       "      <th>1</th>\n",
       "      <th>2</th>\n",
       "      <th>3</th>\n",
       "      <th>4</th>\n",
       "      <th>5</th>\n",
       "      <th>6</th>\n",
       "      <th>7</th>\n",
       "      <th>8</th>\n",
       "      <th>9</th>\n",
       "      <th>...</th>\n",
       "      <th>14</th>\n",
       "      <th>15</th>\n",
       "      <th>16</th>\n",
       "      <th>17</th>\n",
       "      <th>18</th>\n",
       "      <th>19</th>\n",
       "      <th>20</th>\n",
       "      <th>21</th>\n",
       "      <th>22</th>\n",
       "      <th>23</th>\n",
       "    </tr>\n",
       "  </thead>\n",
       "  <tbody>\n",
       "    <tr>\n",
       "      <th>0</th>\n",
       "      <td>0.00</td>\n",
       "      <td>0.00</td>\n",
       "      <td>0.00</td>\n",
       "      <td>0.00</td>\n",
       "      <td>0.00</td>\n",
       "      <td>0.00</td>\n",
       "      <td>0.0</td>\n",
       "      <td>0.00</td>\n",
       "      <td>0.00</td>\n",
       "      <td>64.41</td>\n",
       "      <td>...</td>\n",
       "      <td>51.85</td>\n",
       "      <td>70.12</td>\n",
       "      <td>2.00</td>\n",
       "      <td>64.38</td>\n",
       "      <td>485.0</td>\n",
       "      <td>33.87</td>\n",
       "      <td>68.07</td>\n",
       "      <td>6.0</td>\n",
       "      <td>1.012000</td>\n",
       "      <td>61.80855</td>\n",
       "    </tr>\n",
       "    <tr>\n",
       "      <th>1</th>\n",
       "      <td>900.00</td>\n",
       "      <td>15.84</td>\n",
       "      <td>2.20</td>\n",
       "      <td>0.00</td>\n",
       "      <td>0.00</td>\n",
       "      <td>40.04</td>\n",
       "      <td>0.0</td>\n",
       "      <td>0.00</td>\n",
       "      <td>0.00</td>\n",
       "      <td>19.18</td>\n",
       "      <td>...</td>\n",
       "      <td>54.41</td>\n",
       "      <td>69.66</td>\n",
       "      <td>5.00</td>\n",
       "      <td>60.91</td>\n",
       "      <td>93.0</td>\n",
       "      <td>34.13</td>\n",
       "      <td>67.59</td>\n",
       "      <td>6.0</td>\n",
       "      <td>1.022000</td>\n",
       "      <td>61.80855</td>\n",
       "    </tr>\n",
       "    <tr>\n",
       "      <th>2</th>\n",
       "      <td>629.64</td>\n",
       "      <td>429.44</td>\n",
       "      <td>3.08</td>\n",
       "      <td>9.68</td>\n",
       "      <td>0.00</td>\n",
       "      <td>41.36</td>\n",
       "      <td>0.0</td>\n",
       "      <td>0.00</td>\n",
       "      <td>0.00</td>\n",
       "      <td>12.65</td>\n",
       "      <td>...</td>\n",
       "      <td>52.29</td>\n",
       "      <td>72.14</td>\n",
       "      <td>0.00</td>\n",
       "      <td>57.17</td>\n",
       "      <td>120.0</td>\n",
       "      <td>13.72</td>\n",
       "      <td>9.31</td>\n",
       "      <td>9.0</td>\n",
       "      <td>1.015000</td>\n",
       "      <td>40.85000</td>\n",
       "    </tr>\n",
       "    <tr>\n",
       "      <th>3</th>\n",
       "      <td>0.00</td>\n",
       "      <td>4.40</td>\n",
       "      <td>1.76</td>\n",
       "      <td>0.00</td>\n",
       "      <td>0.00</td>\n",
       "      <td>47.96</td>\n",
       "      <td>0.0</td>\n",
       "      <td>0.00</td>\n",
       "      <td>0.00</td>\n",
       "      <td>65.76</td>\n",
       "      <td>...</td>\n",
       "      <td>55.07</td>\n",
       "      <td>72.65</td>\n",
       "      <td>1.00</td>\n",
       "      <td>65.90</td>\n",
       "      <td>21.0</td>\n",
       "      <td>35.38</td>\n",
       "      <td>33.27</td>\n",
       "      <td>7.0</td>\n",
       "      <td>1.004000</td>\n",
       "      <td>1.18000</td>\n",
       "    </tr>\n",
       "    <tr>\n",
       "      <th>4</th>\n",
       "      <td>91.74</td>\n",
       "      <td>7.04</td>\n",
       "      <td>7.92</td>\n",
       "      <td>1.76</td>\n",
       "      <td>0.44</td>\n",
       "      <td>64.24</td>\n",
       "      <td>0.0</td>\n",
       "      <td>0.00</td>\n",
       "      <td>0.00</td>\n",
       "      <td>54.43</td>\n",
       "      <td>...</td>\n",
       "      <td>48.03</td>\n",
       "      <td>68.66</td>\n",
       "      <td>9.00</td>\n",
       "      <td>59.06</td>\n",
       "      <td>185.0</td>\n",
       "      <td>34.14</td>\n",
       "      <td>68.37</td>\n",
       "      <td>6.0</td>\n",
       "      <td>1.022000</td>\n",
       "      <td>61.80855</td>\n",
       "    </tr>\n",
       "    <tr>\n",
       "      <th>...</th>\n",
       "      <td>...</td>\n",
       "      <td>...</td>\n",
       "      <td>...</td>\n",
       "      <td>...</td>\n",
       "      <td>...</td>\n",
       "      <td>...</td>\n",
       "      <td>...</td>\n",
       "      <td>...</td>\n",
       "      <td>...</td>\n",
       "      <td>...</td>\n",
       "      <td>...</td>\n",
       "      <td>...</td>\n",
       "      <td>...</td>\n",
       "      <td>...</td>\n",
       "      <td>...</td>\n",
       "      <td>...</td>\n",
       "      <td>...</td>\n",
       "      <td>...</td>\n",
       "      <td>...</td>\n",
       "      <td>...</td>\n",
       "      <td>...</td>\n",
       "    </tr>\n",
       "    <tr>\n",
       "      <th>176</th>\n",
       "      <td>900.00</td>\n",
       "      <td>1800.00</td>\n",
       "      <td>0.00</td>\n",
       "      <td>0.00</td>\n",
       "      <td>0.00</td>\n",
       "      <td>2904.00</td>\n",
       "      <td>0.0</td>\n",
       "      <td>14.70</td>\n",
       "      <td>0.00</td>\n",
       "      <td>10.01</td>\n",
       "      <td>...</td>\n",
       "      <td>51.95</td>\n",
       "      <td>67.17</td>\n",
       "      <td>3.00</td>\n",
       "      <td>50.65</td>\n",
       "      <td>318.0</td>\n",
       "      <td>37.49</td>\n",
       "      <td>63.65</td>\n",
       "      <td>6.0</td>\n",
       "      <td>1.019000</td>\n",
       "      <td>18.92000</td>\n",
       "    </tr>\n",
       "    <tr>\n",
       "      <th>177</th>\n",
       "      <td>91.38</td>\n",
       "      <td>1663.20</td>\n",
       "      <td>0.00</td>\n",
       "      <td>0.51</td>\n",
       "      <td>1.02</td>\n",
       "      <td>434.58</td>\n",
       "      <td>0.0</td>\n",
       "      <td>14.72</td>\n",
       "      <td>21.32</td>\n",
       "      <td>14.37</td>\n",
       "      <td>...</td>\n",
       "      <td>51.97</td>\n",
       "      <td>71.11</td>\n",
       "      <td>5.57</td>\n",
       "      <td>54.92</td>\n",
       "      <td>663.0</td>\n",
       "      <td>29.21</td>\n",
       "      <td>68.01</td>\n",
       "      <td>5.0</td>\n",
       "      <td>1.016000</td>\n",
       "      <td>118.00000</td>\n",
       "    </tr>\n",
       "    <tr>\n",
       "      <th>178</th>\n",
       "      <td>495.00</td>\n",
       "      <td>452.60</td>\n",
       "      <td>18.90</td>\n",
       "      <td>0.00</td>\n",
       "      <td>0.00</td>\n",
       "      <td>3997.70</td>\n",
       "      <td>0.0</td>\n",
       "      <td>18.90</td>\n",
       "      <td>0.00</td>\n",
       "      <td>15.57</td>\n",
       "      <td>...</td>\n",
       "      <td>54.51</td>\n",
       "      <td>68.75</td>\n",
       "      <td>3.00</td>\n",
       "      <td>41.22</td>\n",
       "      <td>670.0</td>\n",
       "      <td>38.54</td>\n",
       "      <td>37.18</td>\n",
       "      <td>7.0</td>\n",
       "      <td>1.018000</td>\n",
       "      <td>16.99000</td>\n",
       "    </tr>\n",
       "    <tr>\n",
       "      <th>179</th>\n",
       "      <td>257.40</td>\n",
       "      <td>1047.20</td>\n",
       "      <td>0.00</td>\n",
       "      <td>0.00</td>\n",
       "      <td>0.00</td>\n",
       "      <td>1839.20</td>\n",
       "      <td>0.0</td>\n",
       "      <td>26.40</td>\n",
       "      <td>1025.20</td>\n",
       "      <td>10.20</td>\n",
       "      <td>...</td>\n",
       "      <td>47.05</td>\n",
       "      <td>68.93</td>\n",
       "      <td>5.00</td>\n",
       "      <td>58.73</td>\n",
       "      <td>230.0</td>\n",
       "      <td>16.96</td>\n",
       "      <td>12.04</td>\n",
       "      <td>8.0</td>\n",
       "      <td>1.013000</td>\n",
       "      <td>125.77000</td>\n",
       "    </tr>\n",
       "    <tr>\n",
       "      <th>180</th>\n",
       "      <td>52.80</td>\n",
       "      <td>1800.00</td>\n",
       "      <td>0.00</td>\n",
       "      <td>0.00</td>\n",
       "      <td>0.00</td>\n",
       "      <td>2767.60</td>\n",
       "      <td>0.0</td>\n",
       "      <td>30.80</td>\n",
       "      <td>6410.80</td>\n",
       "      <td>12.15</td>\n",
       "      <td>...</td>\n",
       "      <td>53.23</td>\n",
       "      <td>69.75</td>\n",
       "      <td>12.00</td>\n",
       "      <td>44.30</td>\n",
       "      <td>264.0</td>\n",
       "      <td>24.03</td>\n",
       "      <td>18.55</td>\n",
       "      <td>8.0</td>\n",
       "      <td>1.017909</td>\n",
       "      <td>27.91000</td>\n",
       "    </tr>\n",
       "  </tbody>\n",
       "</table>\n",
       "<p>181 rows × 24 columns</p>\n",
       "</div>"
      ],
      "text/plain": [
       "         0        1      2     3     4        5    6      7        8      9    \n",
       "0      0.00     0.00   0.00  0.00  0.00     0.00  0.0   0.00     0.00  64.41  \\\n",
       "1    900.00    15.84   2.20  0.00  0.00    40.04  0.0   0.00     0.00  19.18   \n",
       "2    629.64   429.44   3.08  9.68  0.00    41.36  0.0   0.00     0.00  12.65   \n",
       "3      0.00     4.40   1.76  0.00  0.00    47.96  0.0   0.00     0.00  65.76   \n",
       "4     91.74     7.04   7.92  1.76  0.44    64.24  0.0   0.00     0.00  54.43   \n",
       "..      ...      ...    ...   ...   ...      ...  ...    ...      ...    ...   \n",
       "176  900.00  1800.00   0.00  0.00  0.00  2904.00  0.0  14.70     0.00  10.01   \n",
       "177   91.38  1663.20   0.00  0.51  1.02   434.58  0.0  14.72    21.32  14.37   \n",
       "178  495.00   452.60  18.90  0.00  0.00  3997.70  0.0  18.90     0.00  15.57   \n",
       "179  257.40  1047.20   0.00  0.00  0.00  1839.20  0.0  26.40  1025.20  10.20   \n",
       "180   52.80  1800.00   0.00  0.00  0.00  2767.60  0.0  30.80  6410.80  12.15   \n",
       "\n",
       "     ...     14     15     16     17     18     19     20   21        22   \n",
       "0    ...  51.85  70.12   2.00  64.38  485.0  33.87  68.07  6.0  1.012000  \\\n",
       "1    ...  54.41  69.66   5.00  60.91   93.0  34.13  67.59  6.0  1.022000   \n",
       "2    ...  52.29  72.14   0.00  57.17  120.0  13.72   9.31  9.0  1.015000   \n",
       "3    ...  55.07  72.65   1.00  65.90   21.0  35.38  33.27  7.0  1.004000   \n",
       "4    ...  48.03  68.66   9.00  59.06  185.0  34.14  68.37  6.0  1.022000   \n",
       "..   ...    ...    ...    ...    ...    ...    ...    ...  ...       ...   \n",
       "176  ...  51.95  67.17   3.00  50.65  318.0  37.49  63.65  6.0  1.019000   \n",
       "177  ...  51.97  71.11   5.57  54.92  663.0  29.21  68.01  5.0  1.016000   \n",
       "178  ...  54.51  68.75   3.00  41.22  670.0  38.54  37.18  7.0  1.018000   \n",
       "179  ...  47.05  68.93   5.00  58.73  230.0  16.96  12.04  8.0  1.013000   \n",
       "180  ...  53.23  69.75  12.00  44.30  264.0  24.03  18.55  8.0  1.017909   \n",
       "\n",
       "            23  \n",
       "0     61.80855  \n",
       "1     61.80855  \n",
       "2     40.85000  \n",
       "3      1.18000  \n",
       "4     61.80855  \n",
       "..         ...  \n",
       "176   18.92000  \n",
       "177  118.00000  \n",
       "178   16.99000  \n",
       "179  125.77000  \n",
       "180   27.91000  \n",
       "\n",
       "[181 rows x 24 columns]"
      ]
     },
     "execution_count": 27,
     "metadata": {},
     "output_type": "execute_result"
    }
   ],
   "source": [
    "#Extract Data\n",
    "features = dataframe.iloc[:, [2,4,6,8,10,12,14,16,18,20,21,23,24,26,28,30,32,33,35,36,37,38,41,42]]\n",
    "target = dataframe.iloc[:, [43]]\n",
    "\n",
    "#Treat string data as NaN\n",
    "pd.options.mode.chained_assignment = None\n",
    "for col in features:\n",
    "    features[col]=pd.to_numeric(features[col], errors='coerce') \n",
    "\n",
    "#Replace NaN by mean value\n",
    "imp = SimpleImputer(missing_values=pd.NA, strategy='mean')\n",
    "features=pd.DataFrame(imp.fit_transform(features))\n",
    "features"
   ]
  },
  {
   "cell_type": "code",
   "execution_count": 28,
   "metadata": {},
   "outputs": [
    {
     "name": "stdout",
     "output_type": "stream",
     "text": [
      "percentage of precision with the number of components :\n",
      " [0.16419816 0.2812246  0.37609558 0.45331358 0.51909239 0.57526783\n",
      " 0.62665339 0.67346428 0.71608223 0.75531898 0.79229646 0.82317947\n",
      " 0.85265613 0.88119648 0.90617699 0.92860305 0.94704769 0.96139573\n",
      " 0.97418628 0.98472437 0.99363429 0.99747712 0.99906669 1.        ]\n"
     ]
    }
   ],
   "source": [
    "#Problem space has >10 dimensions, we fall into https://en.wikipedia.org/wiki/Curse_of_dimensionality. \n",
    "#Let's find the most relevant dimension using PCA\n",
    "\n",
    "#We first need to normalize the data\n",
    "scaledFeatures = pd.DataFrame(preprocessing.scale(features),columns = features.columns)\n",
    "\n",
    "pca = PCA()\n",
    "\n",
    "principalComponents = pca.fit_transform(scaledFeatures)\n",
    "\n",
    "print (f\"percentage of precision with the number of components :\\n {pca.explained_variance_ratio_.cumsum()}\")\n",
    "\n",
    "#relationship from data to component\n",
    "#print(pd.DataFrame(pca.components_,columns=x.columns))\n",
    "principalDf = pd.DataFrame(data = principalComponents)\n",
    "\n",
    "finalDf = pd.concat([principalDf, target], axis = 1)"
   ]
  },
  {
   "cell_type": "code",
   "execution_count": 29,
   "metadata": {},
   "outputs": [
    {
     "data": {
      "image/png": "[encoded data removed]",
      "text/plain": [
       "<Figure size 640x480 with 1 Axes>"
      ]
     },
     "metadata": {},
     "output_type": "display_data"
    }
   ],
   "source": [
    "#plot the first 2 principals components\n",
    "fig = plt.figure()\n",
    "ax = fig.add_subplot() \n",
    "ax.set_xlabel('Principal Component 1', fontsize = 15)\n",
    "ax.set_ylabel('Principal Component 2', fontsize = 15)\n",
    "ax.set_title('2 component PCA', fontsize = 20)\n",
    "\n",
    "cond = finalDf.iloc[:,-1:] == 0\n",
    "cond = cond.squeeze()\n",
    "subset_a = finalDf[cond.squeeze()]\n",
    "subset_b = finalDf[~cond]\n",
    "plt.scatter(subset_a.iloc[:,1], subset_a.iloc[:,2], s=60, c='b', label='Sterile')\n",
    "plt.scatter(subset_b.iloc[:,1], subset_b.iloc[:,2], s=60, c='r', label='Infected') \n",
    "ax.legend()\n",
    "ax.grid()"
   ]
  },
  {
   "cell_type": "code",
   "execution_count": 30,
   "metadata": {},
   "outputs": [],
   "source": [
    "#Lets try to classify anyway, using https://medium.com/thrive-in-ai/classification-algorithms-in-python-5f58a7a27b88\n",
    "\n",
    "from sklearn.model_selection import train_test_split"
   ]
  },
  {
   "cell_type": "code",
   "execution_count": 31,
   "metadata": {},
   "outputs": [
    {
     "data": {
      "text/plain": [
       "0.8108108108108109"
      ]
     },
     "execution_count": 31,
     "metadata": {},
     "output_type": "execute_result"
    }
   ],
   "source": [
    "#Using Linear Regression\n",
    "from sklearn.linear_model import LogisticRegression\n",
    "X_train, X_test, Y_train,Y_test = train_test_split(scaledFeatures, target, test_size=0.2)\n",
    "lr_clf = LogisticRegression().fit(X_train,Y_train.values.ravel())\n",
    "lr_clf.score(X_test,Y_test)"
   ]
  },
  {
   "cell_type": "code",
   "execution_count": 32,
   "metadata": {},
   "outputs": [
    {
     "data": {
      "text/plain": [
       "0.8918918918918919"
      ]
     },
     "execution_count": 32,
     "metadata": {},
     "output_type": "execute_result"
    }
   ],
   "source": [
    "#Using Random Forest Classifier\n",
    "from sklearn.ensemble import RandomForestClassifier\n",
    "X_train, X_test, Y_train,Y_test = train_test_split(scaledFeatures, target, test_size=0.2)\n",
    "lr_clf = RandomForestClassifier().fit(X_train,Y_train.values.ravel())\n",
    "lr_clf.score(X_test,Y_test)"
   ]
  },
  {
   "cell_type": "code",
   "execution_count": 33,
   "metadata": {},
   "outputs": [
    {
     "data": {
      "text/plain": [
       "0.8108108108108109"
      ]
     },
     "execution_count": 33,
     "metadata": {},
     "output_type": "execute_result"
    }
   ],
   "source": [
    "#Using naive_bayes\n",
    "from sklearn.naive_bayes import GaussianNB\n",
    "X_train, X_test, Y_train,Y_test = train_test_split(scaledFeatures, target, test_size=0.2)\n",
    "lr_clf = GaussianNB().fit(X_train,Y_train.values.ravel())\n",
    "lr_clf.score(X_test,Y_test)"
   ]
  },
  {
   "cell_type": "code",
   "execution_count": 34,
   "metadata": {},
   "outputs": [
    {
     "data": {
      "text/plain": [
       "0.7297297297297297"
      ]
     },
     "execution_count": 34,
     "metadata": {},
     "output_type": "execute_result"
    }
   ],
   "source": [
    "#Using Nearest Neighbours Classification\n",
    "from sklearn import neighbors\n",
    "X_train, X_test, Y_train,Y_test = train_test_split(scaledFeatures, target, test_size=0.2)\n",
    "lr_clf = neighbors.KNeighborsClassifier().fit(X_train,Y_train.values.ravel())\n",
    "lr_clf.score(X_test,Y_test)"
   ]
  },
  {
   "cell_type": "code",
   "execution_count": 35,
   "metadata": {},
   "outputs": [
    {
     "data": {
      "text/plain": [
       "0.9459459459459459"
      ]
     },
     "execution_count": 35,
     "metadata": {},
     "output_type": "execute_result"
    }
   ],
   "source": [
    "#using SVM Classifier\n",
    "from sklearn import svm\n",
    "X_train, X_test, Y_train,Y_test = train_test_split(scaledFeatures, target, test_size=0.2)\n",
    "lr_clf = svm.SVC(kernel = 'linear').fit(X_train,Y_train.values.ravel())\n",
    "lr_clf.score(X_test,Y_test)"
   ]
  },
  {
   "cell_type": "code",
   "execution_count": 39,
   "metadata": {},
   "outputs": [
    {
     "data": {
      "text/plain": [
       "0.8648648648648649"
      ]
     },
     "execution_count": 39,
     "metadata": {},
     "output_type": "execute_result"
    }
   ],
   "source": [
    "#using gradient boosting classifier\n",
    "from sklearn.ensemble import GradientBoostingClassifier\n",
    "X_train, X_test, Y_train,Y_test = train_test_split(scaledFeatures, target, test_size=0.2)\n",
    "lr_clf = GradientBoostingClassifier().fit(X_train,Y_train.values.ravel())\n",
    "lr_clf.score(X_test,Y_test)"
   ]
  }
 ],
 "metadata": {
  "kernelspec": {
   "display_name": "Python 3",
   "language": "python",
   "name": "python3"
  },
  "language_info": {
   "codemirror_mode": {
    "name": "ipython",
    "version": 3
   },
   "file_extension": ".py",
   "mimetype": "text/x-python",
   "name": "python",
   "nbconvert_exporter": "python",
   "pygments_lexer": "ipython3",
   "version": "3.11.3"
  },
  "orig_nbformat": 4
 },
 "nbformat": 4,
 "nbformat_minor": 2
}
