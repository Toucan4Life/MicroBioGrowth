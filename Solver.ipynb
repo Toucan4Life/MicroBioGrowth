{
 "cells": [
  {
   "cell_type": "code",
   "execution_count": 78,
   "metadata": {},
   "outputs": [
    {
     "name": "stdout",
     "output_type": "stream",
     "text": [
      "We got 181 rows and 52 columns\n"
     ]
    }
   ],
   "source": [
    "import pandas as pd\n",
    "from sklearn.decomposition import PCA\n",
    "import matplotlib.pyplot as plt\n",
    "from sklearn import preprocessing\n",
    "from sklearn.impute import SimpleImputer\n",
    "\n",
    "#Load file\n",
    "dataframe = pd.read_csv(\"data.csv\", delimiter=\";\")\n",
    "\n",
    "print(f\"We got {len(dataframe)} rows and {len(dataframe.columns)} columns\")"
   ]
  },
  {
   "cell_type": "code",
   "execution_count": 79,
   "metadata": {},
   "outputs": [
    {
     "data": {
      "text/html": [
       "<div>\n",
       "<style scoped>\n",
       "    .dataframe tbody tr th:only-of-type {\n",
       "        vertical-align: middle;\n",
       "    }\n",
       "\n",
       "    .dataframe tbody tr th {\n",
       "        vertical-align: top;\n",
       "    }\n",
       "\n",
       "    .dataframe thead th {\n",
       "        text-align: right;\n",
       "    }\n",
       "</style>\n",
       "<table border=\"1\" class=\"dataframe\">\n",
       "  <thead>\n",
       "    <tr style=\"text-align: right;\">\n",
       "      <th></th>\n",
       "      <th>GB (p/µL)</th>\n",
       "      <th>GR (p/µL)</th>\n",
       "      <th>Cellule épithéliales (p/µL)</th>\n",
       "      <th>Cellules non-épithéliales (p/µL)</th>\n",
       "      <th>Levures (p/µL)</th>\n",
       "      <th>Bactéries (p/ µL)</th>\n",
       "      <th>Cylindres hyalins (p/µL)</th>\n",
       "      <th>Cylindres pathologiques (p/µL)</th>\n",
       "      <th>Cristaux (p/µL)</th>\n",
       "      <th>ERY 560</th>\n",
       "      <th>...</th>\n",
       "      <th>KET</th>\n",
       "      <th>GLU réfl</th>\n",
       "      <th>Glucose ur, chaines</th>\n",
       "      <th>PRO réfl</th>\n",
       "      <th>Protéines ur, chaines (mg/L)</th>\n",
       "      <th>PH 560</th>\n",
       "      <th>PH 615</th>\n",
       "      <th>PH</th>\n",
       "      <th>SG</th>\n",
       "      <th>CRP</th>\n",
       "    </tr>\n",
       "  </thead>\n",
       "  <tbody>\n",
       "    <tr>\n",
       "      <th>0</th>\n",
       "      <td>0.00</td>\n",
       "      <td>0.00</td>\n",
       "      <td>0.00</td>\n",
       "      <td>0.00</td>\n",
       "      <td>0.00</td>\n",
       "      <td>0.00</td>\n",
       "      <td>0.0</td>\n",
       "      <td>0.00</td>\n",
       "      <td>0.00</td>\n",
       "      <td>64.41</td>\n",
       "      <td>...</td>\n",
       "      <td>51.85</td>\n",
       "      <td>70.12</td>\n",
       "      <td>2.00</td>\n",
       "      <td>64.38</td>\n",
       "      <td>485.0</td>\n",
       "      <td>33.87</td>\n",
       "      <td>68.07</td>\n",
       "      <td>6.0</td>\n",
       "      <td>1.012</td>\n",
       "      <td>0.00</td>\n",
       "    </tr>\n",
       "    <tr>\n",
       "      <th>1</th>\n",
       "      <td>900.00</td>\n",
       "      <td>15.84</td>\n",
       "      <td>2.20</td>\n",
       "      <td>0.00</td>\n",
       "      <td>0.00</td>\n",
       "      <td>40.04</td>\n",
       "      <td>0.0</td>\n",
       "      <td>0.00</td>\n",
       "      <td>0.00</td>\n",
       "      <td>19.18</td>\n",
       "      <td>...</td>\n",
       "      <td>54.41</td>\n",
       "      <td>69.66</td>\n",
       "      <td>5.00</td>\n",
       "      <td>60.91</td>\n",
       "      <td>93.0</td>\n",
       "      <td>34.13</td>\n",
       "      <td>67.59</td>\n",
       "      <td>6.0</td>\n",
       "      <td>1.022</td>\n",
       "      <td>22.07</td>\n",
       "    </tr>\n",
       "    <tr>\n",
       "      <th>2</th>\n",
       "      <td>629.64</td>\n",
       "      <td>429.44</td>\n",
       "      <td>3.08</td>\n",
       "      <td>9.68</td>\n",
       "      <td>0.00</td>\n",
       "      <td>41.36</td>\n",
       "      <td>0.0</td>\n",
       "      <td>0.00</td>\n",
       "      <td>0.00</td>\n",
       "      <td>12.65</td>\n",
       "      <td>...</td>\n",
       "      <td>52.29</td>\n",
       "      <td>72.14</td>\n",
       "      <td>0.00</td>\n",
       "      <td>57.17</td>\n",
       "      <td>120.0</td>\n",
       "      <td>13.72</td>\n",
       "      <td>9.31</td>\n",
       "      <td>9.0</td>\n",
       "      <td>1.015</td>\n",
       "      <td>40.85</td>\n",
       "    </tr>\n",
       "    <tr>\n",
       "      <th>3</th>\n",
       "      <td>0.00</td>\n",
       "      <td>4.40</td>\n",
       "      <td>1.76</td>\n",
       "      <td>0.00</td>\n",
       "      <td>0.00</td>\n",
       "      <td>47.96</td>\n",
       "      <td>0.0</td>\n",
       "      <td>0.00</td>\n",
       "      <td>0.00</td>\n",
       "      <td>65.76</td>\n",
       "      <td>...</td>\n",
       "      <td>55.07</td>\n",
       "      <td>72.65</td>\n",
       "      <td>1.00</td>\n",
       "      <td>65.90</td>\n",
       "      <td>21.0</td>\n",
       "      <td>35.38</td>\n",
       "      <td>33.27</td>\n",
       "      <td>7.0</td>\n",
       "      <td>1.004</td>\n",
       "      <td>1.18</td>\n",
       "    </tr>\n",
       "    <tr>\n",
       "      <th>4</th>\n",
       "      <td>91.74</td>\n",
       "      <td>7.04</td>\n",
       "      <td>7.92</td>\n",
       "      <td>1.76</td>\n",
       "      <td>0.44</td>\n",
       "      <td>64.24</td>\n",
       "      <td>0.0</td>\n",
       "      <td>0.00</td>\n",
       "      <td>0.00</td>\n",
       "      <td>54.43</td>\n",
       "      <td>...</td>\n",
       "      <td>48.03</td>\n",
       "      <td>68.66</td>\n",
       "      <td>9.00</td>\n",
       "      <td>59.06</td>\n",
       "      <td>185.0</td>\n",
       "      <td>34.14</td>\n",
       "      <td>68.37</td>\n",
       "      <td>6.0</td>\n",
       "      <td>1.022</td>\n",
       "      <td>22.07</td>\n",
       "    </tr>\n",
       "    <tr>\n",
       "      <th>...</th>\n",
       "      <td>...</td>\n",
       "      <td>...</td>\n",
       "      <td>...</td>\n",
       "      <td>...</td>\n",
       "      <td>...</td>\n",
       "      <td>...</td>\n",
       "      <td>...</td>\n",
       "      <td>...</td>\n",
       "      <td>...</td>\n",
       "      <td>...</td>\n",
       "      <td>...</td>\n",
       "      <td>...</td>\n",
       "      <td>...</td>\n",
       "      <td>...</td>\n",
       "      <td>...</td>\n",
       "      <td>...</td>\n",
       "      <td>...</td>\n",
       "      <td>...</td>\n",
       "      <td>...</td>\n",
       "      <td>...</td>\n",
       "      <td>...</td>\n",
       "    </tr>\n",
       "    <tr>\n",
       "      <th>176</th>\n",
       "      <td>900.00</td>\n",
       "      <td>1800.00</td>\n",
       "      <td>0.00</td>\n",
       "      <td>0.00</td>\n",
       "      <td>0.00</td>\n",
       "      <td>2904.00</td>\n",
       "      <td>0.0</td>\n",
       "      <td>14.70</td>\n",
       "      <td>0.00</td>\n",
       "      <td>10.01</td>\n",
       "      <td>...</td>\n",
       "      <td>51.95</td>\n",
       "      <td>67.17</td>\n",
       "      <td>3.00</td>\n",
       "      <td>50.65</td>\n",
       "      <td>318.0</td>\n",
       "      <td>37.49</td>\n",
       "      <td>63.65</td>\n",
       "      <td>6.0</td>\n",
       "      <td>1.019</td>\n",
       "      <td>18.92</td>\n",
       "    </tr>\n",
       "    <tr>\n",
       "      <th>177</th>\n",
       "      <td>91.38</td>\n",
       "      <td>1663.20</td>\n",
       "      <td>0.00</td>\n",
       "      <td>0.51</td>\n",
       "      <td>1.02</td>\n",
       "      <td>434.58</td>\n",
       "      <td>0.0</td>\n",
       "      <td>14.72</td>\n",
       "      <td>21.32</td>\n",
       "      <td>14.37</td>\n",
       "      <td>...</td>\n",
       "      <td>51.97</td>\n",
       "      <td>71.11</td>\n",
       "      <td>5.57</td>\n",
       "      <td>54.92</td>\n",
       "      <td>663.0</td>\n",
       "      <td>29.21</td>\n",
       "      <td>68.01</td>\n",
       "      <td>5.0</td>\n",
       "      <td>1.016</td>\n",
       "      <td>118.00</td>\n",
       "    </tr>\n",
       "    <tr>\n",
       "      <th>178</th>\n",
       "      <td>495.00</td>\n",
       "      <td>452.60</td>\n",
       "      <td>18.90</td>\n",
       "      <td>0.00</td>\n",
       "      <td>0.00</td>\n",
       "      <td>3997.70</td>\n",
       "      <td>0.0</td>\n",
       "      <td>18.90</td>\n",
       "      <td>0.00</td>\n",
       "      <td>15.57</td>\n",
       "      <td>...</td>\n",
       "      <td>54.51</td>\n",
       "      <td>68.75</td>\n",
       "      <td>3.00</td>\n",
       "      <td>41.22</td>\n",
       "      <td>670.0</td>\n",
       "      <td>38.54</td>\n",
       "      <td>37.18</td>\n",
       "      <td>7.0</td>\n",
       "      <td>1.018</td>\n",
       "      <td>16.99</td>\n",
       "    </tr>\n",
       "    <tr>\n",
       "      <th>179</th>\n",
       "      <td>257.40</td>\n",
       "      <td>1047.20</td>\n",
       "      <td>0.00</td>\n",
       "      <td>0.00</td>\n",
       "      <td>0.00</td>\n",
       "      <td>1839.20</td>\n",
       "      <td>0.0</td>\n",
       "      <td>26.40</td>\n",
       "      <td>1025.20</td>\n",
       "      <td>10.20</td>\n",
       "      <td>...</td>\n",
       "      <td>47.05</td>\n",
       "      <td>68.93</td>\n",
       "      <td>5.00</td>\n",
       "      <td>58.73</td>\n",
       "      <td>230.0</td>\n",
       "      <td>16.96</td>\n",
       "      <td>12.04</td>\n",
       "      <td>8.0</td>\n",
       "      <td>1.013</td>\n",
       "      <td>125.77</td>\n",
       "    </tr>\n",
       "    <tr>\n",
       "      <th>180</th>\n",
       "      <td>52.80</td>\n",
       "      <td>1800.00</td>\n",
       "      <td>0.00</td>\n",
       "      <td>0.00</td>\n",
       "      <td>0.00</td>\n",
       "      <td>2767.60</td>\n",
       "      <td>0.0</td>\n",
       "      <td>30.80</td>\n",
       "      <td>6410.80</td>\n",
       "      <td>12.15</td>\n",
       "      <td>...</td>\n",
       "      <td>53.23</td>\n",
       "      <td>69.75</td>\n",
       "      <td>12.00</td>\n",
       "      <td>44.30</td>\n",
       "      <td>264.0</td>\n",
       "      <td>24.03</td>\n",
       "      <td>18.55</td>\n",
       "      <td>8.0</td>\n",
       "      <td>1.017</td>\n",
       "      <td>27.91</td>\n",
       "    </tr>\n",
       "  </tbody>\n",
       "</table>\n",
       "<p>181 rows × 23 columns</p>\n",
       "</div>"
      ],
      "text/plain": [
       "     GB (p/µL)   GR (p/µL)   Cellule épithéliales (p/µL)    \n",
       "0          0.00        0.00                          0.00  \\\n",
       "1        900.00       15.84                          2.20   \n",
       "2        629.64      429.44                          3.08   \n",
       "3          0.00        4.40                          1.76   \n",
       "4         91.74        7.04                          7.92   \n",
       "..          ...         ...                           ...   \n",
       "176      900.00     1800.00                          0.00   \n",
       "177       91.38     1663.20                          0.00   \n",
       "178      495.00      452.60                         18.90   \n",
       "179      257.40     1047.20                          0.00   \n",
       "180       52.80     1800.00                          0.00   \n",
       "\n",
       "     Cellules non-épithéliales (p/µL)   Levures (p/µL)   Bactéries (p/ µL)    \n",
       "0                                 0.00             0.00                0.00  \\\n",
       "1                                 0.00             0.00               40.04   \n",
       "2                                 9.68             0.00               41.36   \n",
       "3                                 0.00             0.00               47.96   \n",
       "4                                 1.76             0.44               64.24   \n",
       "..                                 ...              ...                 ...   \n",
       "176                               0.00             0.00             2904.00   \n",
       "177                               0.51             1.02              434.58   \n",
       "178                               0.00             0.00             3997.70   \n",
       "179                               0.00             0.00             1839.20   \n",
       "180                               0.00             0.00             2767.60   \n",
       "\n",
       "     Cylindres hyalins (p/µL)   Cylindres pathologiques (p/µL)    \n",
       "0                          0.0                             0.00  \\\n",
       "1                          0.0                             0.00   \n",
       "2                          0.0                             0.00   \n",
       "3                          0.0                             0.00   \n",
       "4                          0.0                             0.00   \n",
       "..                         ...                              ...   \n",
       "176                        0.0                            14.70   \n",
       "177                        0.0                            14.72   \n",
       "178                        0.0                            18.90   \n",
       "179                        0.0                            26.40   \n",
       "180                        0.0                            30.80   \n",
       "\n",
       "     Cristaux (p/µL)   ERY 560   ...  KET     GLU réfl   Glucose ur, chaines    \n",
       "0                0.00     64.41  ...   51.85      70.12                  2.00  \\\n",
       "1                0.00     19.18  ...   54.41      69.66                  5.00   \n",
       "2                0.00     12.65  ...   52.29      72.14                  0.00   \n",
       "3                0.00     65.76  ...   55.07      72.65                  1.00   \n",
       "4                0.00     54.43  ...   48.03      68.66                  9.00   \n",
       "..                ...       ...  ...     ...        ...                   ...   \n",
       "176              0.00     10.01  ...   51.95      67.17                  3.00   \n",
       "177             21.32     14.37  ...   51.97      71.11                  5.57   \n",
       "178              0.00     15.57  ...   54.51      68.75                  3.00   \n",
       "179           1025.20     10.20  ...   47.05      68.93                  5.00   \n",
       "180           6410.80     12.15  ...   53.23      69.75                 12.00   \n",
       "\n",
       "     PRO réfl   Protéines ur, chaines (mg/L)   PH 560   PH 615   PH     \n",
       "0        64.38                          485.0    33.87    68.07   6.0  \\\n",
       "1        60.91                           93.0    34.13    67.59   6.0   \n",
       "2        57.17                          120.0    13.72     9.31   9.0   \n",
       "3        65.90                           21.0    35.38    33.27   7.0   \n",
       "4        59.06                          185.0    34.14    68.37   6.0   \n",
       "..         ...                            ...      ...      ...   ...   \n",
       "176      50.65                          318.0    37.49    63.65   6.0   \n",
       "177      54.92                          663.0    29.21    68.01   5.0   \n",
       "178      41.22                          670.0    38.54    37.18   7.0   \n",
       "179      58.73                          230.0    16.96    12.04   8.0   \n",
       "180      44.30                          264.0    24.03    18.55   8.0   \n",
       "\n",
       "     SG        CRP      \n",
       "0       1.012     0.00  \n",
       "1       1.022    22.07  \n",
       "2       1.015    40.85  \n",
       "3       1.004     1.18  \n",
       "4       1.022    22.07  \n",
       "..        ...      ...  \n",
       "176     1.019    18.92  \n",
       "177     1.016   118.00  \n",
       "178     1.018    16.99  \n",
       "179     1.013   125.77  \n",
       "180     1.017    27.91  \n",
       "\n",
       "[181 rows x 23 columns]"
      ]
     },
     "execution_count": 79,
     "metadata": {},
     "output_type": "execute_result"
    }
   ],
   "source": [
    "#Extract Data\n",
    "features = dataframe.iloc[:, [2,4,6,8,10,12,14,16,18,20,21,24,26,28,30,32,33,35,36,37,38,41,42]]\n",
    "target = dataframe.iloc[:, [43]]\n",
    "\n",
    "features.loc[features['CRP    '].str.startswith('<'),'CRP    ']=0\n",
    "#Treat string data as NaN\n",
    "pd.options.mode.chained_assignment = None\n",
    "\n",
    "for col in features:\n",
    "    features[col]=pd.to_numeric(features[col], errors='coerce') \n",
    "\n",
    "#Replace NaN by mean value\n",
    "imp = SimpleImputer(missing_values=pd.NA, strategy='median')\n",
    "features=pd.DataFrame(imp.fit_transform(features), columns=features.columns)\n",
    "features"
   ]
  },
  {
   "cell_type": "code",
   "execution_count": 80,
   "metadata": {},
   "outputs": [
    {
     "name": "stdout",
     "output_type": "stream",
     "text": [
      "percentage of precision with the number of components :\n",
      " [0.17145592 0.29373857 0.39322328 0.47299384 0.54169599 0.59995475\n",
      " 0.65057075 0.69751735 0.73894822 0.7782401  0.81124348 0.84206277\n",
      " 0.87205105 0.89846019 0.92317153 0.94307601 0.95906451 0.97254596\n",
      " 0.98403929 0.99335131 0.99731145 0.9989689  1.        ]\n"
     ]
    }
   ],
   "source": [
    "#Problem space has >10 dimensions, we fall into https://en.wikipedia.org/wiki/Curse_of_dimensionality. \n",
    "#Let's find the most relevant dimension using PCA\n",
    "\n",
    "#We first need to normalize the data\n",
    "scaledFeatures = pd.DataFrame(preprocessing.scale(features),columns = features.columns)\n",
    "\n",
    "pca = PCA()\n",
    "\n",
    "principalComponents = pca.fit_transform(scaledFeatures)\n",
    "\n",
    "print (f\"percentage of precision with the number of components :\\n {pca.explained_variance_ratio_.cumsum()}\")\n",
    "\n",
    "#relationship from data to component\n",
    "#print(pd.DataFrame(pca.components_,columns=x.columns))\n",
    "principalDf = pd.DataFrame(data = principalComponents)\n",
    "\n",
    "finalDf = pd.concat([principalDf, target], axis = 1)"
   ]
  },
  {
   "cell_type": "code",
   "execution_count": 81,
   "metadata": {},
   "outputs": [
    {
     "data": {
      "image/png": "[encoded data removed]",
      "text/plain": [
       "<Figure size 640x480 with 1 Axes>"
      ]
     },
     "metadata": {},
     "output_type": "display_data"
    }
   ],
   "source": [
    "#plot the first 2 principals components\n",
    "fig = plt.figure()\n",
    "ax = fig.add_subplot() \n",
    "ax.set_xlabel('Principal Component 1', fontsize = 15)\n",
    "ax.set_ylabel('Principal Component 2', fontsize = 15)\n",
    "ax.set_title('2 component PCA', fontsize = 20)\n",
    "\n",
    "cond = finalDf.iloc[:,-1:] == 0\n",
    "cond = cond.squeeze()\n",
    "subset_a = finalDf[cond.squeeze()]\n",
    "subset_b = finalDf[~cond]\n",
    "plt.scatter(subset_a.iloc[:,1], subset_a.iloc[:,2], s=60, c='b', label='Sterile')\n",
    "plt.scatter(subset_b.iloc[:,1], subset_b.iloc[:,2], s=60, c='r', label='Infected') \n",
    "ax.legend()\n",
    "ax.grid()"
   ]
  },
  {
   "cell_type": "code",
   "execution_count": 82,
   "metadata": {},
   "outputs": [],
   "source": [
    "#Lets try to classify anyway, using https://medium.com/thrive-in-ai/classification-algorithms-in-python-5f58a7a27b88\n",
    "\n",
    "from sklearn.model_selection import train_test_split"
   ]
  },
  {
   "cell_type": "code",
   "execution_count": 83,
   "metadata": {},
   "outputs": [
    {
     "data": {
      "text/plain": [
       "0.8918918918918919"
      ]
     },
     "execution_count": 83,
     "metadata": {},
     "output_type": "execute_result"
    }
   ],
   "source": [
    "#Using Linear Regression\n",
    "from sklearn.linear_model import LogisticRegression\n",
    "X_train, X_test, Y_train,Y_test = train_test_split(features, target, test_size=0.2)\n",
    "lr_clf = LogisticRegression().fit(preprocessing.scale(X_train),Y_train.values.ravel())\n",
    "lr_clf.score(preprocessing.scale(X_test),Y_test)"
   ]
  },
  {
   "cell_type": "code",
   "execution_count": 84,
   "metadata": {},
   "outputs": [
    {
     "data": {
      "text/plain": [
       "0.7567567567567568"
      ]
     },
     "execution_count": 84,
     "metadata": {},
     "output_type": "execute_result"
    }
   ],
   "source": [
    "#Using Random Forest Classifier\n",
    "from sklearn.ensemble import RandomForestClassifier\n",
    "X_train, X_test, Y_train,Y_test = train_test_split(scaledFeatures, target, test_size=0.2)\n",
    "lr_clf = RandomForestClassifier().fit(preprocessing.scale(X_train),Y_train.values.ravel())\n",
    "lr_clf.score(preprocessing.scale(X_test),Y_test)"
   ]
  },
  {
   "cell_type": "code",
   "execution_count": 85,
   "metadata": {},
   "outputs": [
    {
     "data": {
      "text/plain": [
       "0.7837837837837838"
      ]
     },
     "execution_count": 85,
     "metadata": {},
     "output_type": "execute_result"
    }
   ],
   "source": [
    "#Using naive_bayes\n",
    "from sklearn.naive_bayes import GaussianNB\n",
    "X_train, X_test, Y_train,Y_test = train_test_split(scaledFeatures, target, test_size=0.2)\n",
    "lr_clf = GaussianNB().fit(preprocessing.scale(X_train),Y_train.values.ravel())\n",
    "lr_clf.score(preprocessing.scale(X_test),Y_test)"
   ]
  },
  {
   "cell_type": "code",
   "execution_count": 86,
   "metadata": {},
   "outputs": [
    {
     "data": {
      "text/plain": [
       "0.8108108108108109"
      ]
     },
     "execution_count": 86,
     "metadata": {},
     "output_type": "execute_result"
    }
   ],
   "source": [
    "#Using Nearest Neighbours Classification\n",
    "from sklearn import neighbors\n",
    "X_train, X_test, Y_train,Y_test = train_test_split(scaledFeatures, target, test_size=0.2)\n",
    "lr_clf = neighbors.KNeighborsClassifier().fit(preprocessing.scale(X_train),Y_train.values.ravel())\n",
    "lr_clf.score(preprocessing.scale(X_test),Y_test)"
   ]
  },
  {
   "cell_type": "code",
   "execution_count": 87,
   "metadata": {},
   "outputs": [
    {
     "data": {
      "text/plain": [
       "0.8648648648648649"
      ]
     },
     "execution_count": 87,
     "metadata": {},
     "output_type": "execute_result"
    }
   ],
   "source": [
    "#using SVM Classifier\n",
    "from sklearn import svm\n",
    "X_train, X_test, Y_train,Y_test = train_test_split(scaledFeatures, target, test_size=0.2)\n",
    "lr_clf = svm.SVC(kernel = 'linear').fit(preprocessing.scale(X_train),Y_train.values.ravel())\n",
    "lr_clf.score(preprocessing.scale(X_test),Y_test)"
   ]
  },
  {
   "cell_type": "code",
   "execution_count": 88,
   "metadata": {},
   "outputs": [
    {
     "data": {
      "text/plain": [
       "0.8378378378378378"
      ]
     },
     "execution_count": 88,
     "metadata": {},
     "output_type": "execute_result"
    }
   ],
   "source": [
    "#using gradient boosting classifier\n",
    "from sklearn.ensemble import GradientBoostingClassifier\n",
    "X_train, X_test, Y_train,Y_test = train_test_split(scaledFeatures, target, test_size=0.2)\n",
    "lr_clf = GradientBoostingClassifier().fit(preprocessing.scale(X_train),Y_train.values.ravel())\n",
    "lr_clf.score(preprocessing.scale(X_test),Y_test)"
   ]
  },
  {
   "cell_type": "code",
   "execution_count": 89,
   "metadata": {},
   "outputs": [
    {
     "data": {
      "text/plain": [
       "[Text(0.5, 0.95, 'x[0] <= -0.222\\ngini = 0.401\\nsamples = 144\\nvalue = [104, 40]'),\n",
       " Text(0.3333333333333333, 0.85, 'x[15] <= -0.281\\ngini = 0.221\\nsamples = 103\\nvalue = [90, 13]'),\n",
       " Text(0.25, 0.75, 'gini = 0.0\\nsamples = 5\\nvalue = [0, 5]'),\n",
       " Text(0.4166666666666667, 0.75, 'x[5] <= 0.972\\ngini = 0.15\\nsamples = 98\\nvalue = [90, 8]'),\n",
       " Text(0.3333333333333333, 0.65, 'x[14] <= 0.504\\ngini = 0.117\\nsamples = 96\\nvalue = [90, 6]'),\n",
       " Text(0.16666666666666666, 0.55, 'x[16] <= -2.41\\ngini = 0.064\\nsamples = 90\\nvalue = [87, 3]'),\n",
       " Text(0.08333333333333333, 0.45, 'gini = 0.0\\nsamples = 1\\nvalue = [0, 1]'),\n",
       " Text(0.25, 0.45, 'x[2] <= -0.013\\ngini = 0.044\\nsamples = 89\\nvalue = [87, 2]'),\n",
       " Text(0.16666666666666666, 0.35, 'gini = 0.0\\nsamples = 67\\nvalue = [67, 0]'),\n",
       " Text(0.3333333333333333, 0.35, 'x[12] <= 0.006\\ngini = 0.165\\nsamples = 22\\nvalue = [20, 2]'),\n",
       " Text(0.25, 0.25, 'gini = 0.0\\nsamples = 1\\nvalue = [0, 1]'),\n",
       " Text(0.4166666666666667, 0.25, 'x[8] <= -0.074\\ngini = 0.091\\nsamples = 21\\nvalue = [20, 1]'),\n",
       " Text(0.3333333333333333, 0.15, 'gini = 0.0\\nsamples = 19\\nvalue = [19, 0]'),\n",
       " Text(0.5, 0.15, 'x[15] <= -0.257\\ngini = 0.5\\nsamples = 2\\nvalue = [1, 1]'),\n",
       " Text(0.4166666666666667, 0.05, 'gini = 0.0\\nsamples = 1\\nvalue = [0, 1]'),\n",
       " Text(0.5833333333333334, 0.05, 'gini = 0.0\\nsamples = 1\\nvalue = [1, 0]'),\n",
       " Text(0.5, 0.55, 'x[3] <= -0.268\\ngini = 0.5\\nsamples = 6\\nvalue = [3, 3]'),\n",
       " Text(0.4166666666666667, 0.45, 'gini = 0.0\\nsamples = 3\\nvalue = [3, 0]'),\n",
       " Text(0.5833333333333334, 0.45, 'gini = 0.0\\nsamples = 3\\nvalue = [0, 3]'),\n",
       " Text(0.5, 0.65, 'gini = 0.0\\nsamples = 2\\nvalue = [0, 2]'),\n",
       " Text(0.6666666666666666, 0.85, 'x[15] <= -0.274\\ngini = 0.45\\nsamples = 41\\nvalue = [14, 27]'),\n",
       " Text(0.5833333333333334, 0.75, 'gini = 0.0\\nsamples = 19\\nvalue = [0, 19]'),\n",
       " Text(0.75, 0.75, 'x[17] <= 0.066\\ngini = 0.463\\nsamples = 22\\nvalue = [14, 8]'),\n",
       " Text(0.6666666666666666, 0.65, 'gini = 0.0\\nsamples = 12\\nvalue = [12, 0]'),\n",
       " Text(0.8333333333333334, 0.65, 'x[18] <= -0.532\\ngini = 0.32\\nsamples = 10\\nvalue = [2, 8]'),\n",
       " Text(0.75, 0.55, 'gini = 0.0\\nsamples = 2\\nvalue = [2, 0]'),\n",
       " Text(0.9166666666666666, 0.55, 'gini = 0.0\\nsamples = 8\\nvalue = [0, 8]')]"
      ]
     },
     "execution_count": 89,
     "metadata": {},
     "output_type": "execute_result"
    },
    {
     "data": {
      "image/png": "[encoded data removed]",
      "text/plain": [
       "<Figure size 640x480 with 1 Axes>"
      ]
     },
     "metadata": {},
     "output_type": "display_data"
    }
   ],
   "source": [
    "from sklearn import tree\n",
    "X_train, X_test, Y_train,Y_test = train_test_split(scaledFeatures, target, test_size=0.2)\n",
    "lr_clf = tree.DecisionTreeClassifier().fit(preprocessing.scale(X_train),Y_train.values.ravel())\n",
    "lr_clf.score(preprocessing.scale(X_test),Y_test)\n",
    "tree.plot_tree(lr_clf)"
   ]
  }
 ],
 "metadata": {
  "kernelspec": {
   "display_name": "Python 3",
   "language": "python",
   "name": "python3"
  },
  "language_info": {
   "codemirror_mode": {
    "name": "ipython",
    "version": 3
   },
   "file_extension": ".py",
   "mimetype": "text/x-python",
   "name": "python",
   "nbconvert_exporter": "python",
   "pygments_lexer": "ipython3",
   "version": "3.11.3"
  },
  "orig_nbformat": 4
 },
 "nbformat": 4,
 "nbformat_minor": 2
}
